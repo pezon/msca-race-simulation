{
  "nbformat": 4,
  "nbformat_minor": 0,
  "metadata": {
    "colab": {
      "provenance": []
    },
    "kernelspec": {
      "name": "python3",
      "display_name": "Python 3"
    },
    "language_info": {
      "name": "python"
    }
  },
  "cells": [
    {
      "cell_type": "markdown",
      "source": [
        "# Simulate Race"
      ],
      "metadata": {
        "id": "f4rU4UDgr5s9"
      }
    },
    {
      "cell_type": "markdown",
      "source": [
        "## Settings"
      ],
      "metadata": {
        "id": "4cH7mQirr5ot"
      }
    },
    {
      "cell_type": "code",
      "execution_count": 1,
      "metadata": {
        "id": "9Woda-iUr3eb"
      },
      "outputs": [],
      "source": [
        "# set simulation parameters\n",
        "RESULTS_DIR = \"/content/gdrive/MyDrive/RLF002/sim/Shanghai_2019_5000\"\n",
        "\n",
        "RACE_PARAMS_FILE = \"/content/racesim/input/parameters/pars_Shanghai_2019.ini\"\n",
        "MCS_PARAMS_FILE = \"/content/racesim/input/parameters/pars_mcs.ini\"\n",
        "\n",
        "# set simulation options\n",
        "sim_opts = {\n",
        "    # use_prob_infl:        activates probabilistic influences within the race simulation -> lap times, pit stop\n",
        "    #                       durations, race start performance\n",
        "    \"use_prob_infl\": True,\n",
        "    # create_rand_events:   activates the random creation of FCY (full course yellow) phases and retirements in the race\n",
        "    #                       simulation -> they will only be created if the according entries in the parameter file\n",
        "    #                       contain empty lists, otherwise the file entries are used\n",
        "    \"create_rand_events\": True,\n",
        "    # use_vse:              determines if the VSE (virtual strategy engineer) is used to take tire change decisions\n",
        "    #                       -> the VSE type is defined in the parameter file (VSE_PARS)\n",
        "    \"use_vse\": True,\n",
        "    # no_sim_runs:          number of (valid) races to simulate\n",
        "    \"no_sim_runs\": 100,\n",
        "    # no_workers:           defines number of workers for multiprocess calculations, 1 for single process, >1 for\n",
        "    #                       multi-process (you can use print(multiprocessing.cpu_count()) to determine the max. number)\n",
        "    \"no_workers\": 1,\n",
        "    # use_print:            set if prints to console should be used or not (does not suppress hints/warnings)\n",
        "    \"use_print\": True,\n",
        "    # use_print_result:     set if result should be printed to console or not\n",
        "    \"use_print_result\": True,\n",
        "    # use_plot:             set if plotting should be used or not\n",
        "    \"use_plot\": False\n",
        "}\n",
        "\n",
        "vse_paths = {\n",
        "    \"reinf_nnmodel\": \"/content/gdrive/MyDrive/RLF002/vse-002/exports/2023-05-21-final/nn_reinforcement_Shanghai_2019.tflite\",\n",
        "    \"reinf_preprocessor\": \"/content/gdrive/MyDrive/RLF002/vse-002/exports/2023-05-21-final/preprocessor_reinforcement_Shanghai_2019.pkl\",\n",
        "    # \"reinf_nnmodel\": \"/content/racesim/input/vse/nn_reinforcement_Shanghai_2019.tflite\",\n",
        "    # \"reinf_preprocessor\": \"/content/racesim/input/vse/preprocessor_reinforcement_Shanghai_2019.pkl\",\n",
        "    \"supervised_nnmodel_cc\": \"/content/racesim/input/vse/nn_supervised_compoundchoice.tflite\",\n",
        "    \"supervised_nnmodel_tc\": \"/content/racesim/input/vse/nn_supervised_tirechange.tflite\",\n",
        "    \"supervised_preprocessor_cc\": \"/content/racesim/input/vse/preprocessor_supervised_compoundchoice.pkl\",\n",
        "    \"supervised_preprocessor_tc\": \"/content/racesim/input/vse/preprocessor_supervised_tirechange.pkl\"\n",
        "}\n",
        "\n",
        "# VSE type for other drivers: 'basestrategy', 'realstrategy', 'supervised', 'reinforcement'\n",
        "vse_types = {\n",
        "    \"ALB\": \"reinforcement\",\n",
        "    \"BOT\": \"reinforcement\",\n",
        "    \"GAS\": \"reinforcement\",\n",
        "    \"GIO\": \"reinforcement\",\n",
        "    \"GRO\": \"reinforcement\",\n",
        "    \"HAM\": \"reinforcement\",\n",
        "    \"HUL\": \"reinforcement\",\n",
        "    \"KUB\": \"reinforcement\",\n",
        "    \"KVY\": \"reinforcement\",\n",
        "    \"LEC\": \"reinforcement\",\n",
        "    \"MAG\": \"reinforcement\",\n",
        "    \"NOR\": \"reinforcement\",\n",
        "    \"PER\": \"reinforcement\",\n",
        "    \"RAI\": \"reinforcement\",\n",
        "    \"RIC\": \"reinforcement\",\n",
        "    \"RUS\": \"reinforcement\",\n",
        "    \"SAI\": \"reinforcement\",\n",
        "    \"STR\": \"reinforcement\",\n",
        "    \"VER\": \"reinforcement\",\n",
        "    \"VET\": \"reinforcement\",\n",
        "}"
      ]
    },
    {
      "cell_type": "markdown",
      "source": [
        "Mount Google Drive."
      ],
      "metadata": {
        "id": "YSM7ewPasCPJ"
      }
    },
    {
      "cell_type": "code",
      "source": [
        "from google.colab import drive\n",
        "\n",
        "drive.mount(\"/content/gdrive\")"
      ],
      "metadata": {
        "colab": {
          "base_uri": "https://localhost:8080/"
        },
        "id": "5VjvdI2XsAPD",
        "outputId": "0f7c42c4-1c3b-47c0-997a-af06d8f848e3"
      },
      "execution_count": 2,
      "outputs": [
        {
          "output_type": "stream",
          "name": "stdout",
          "text": [
            "Mounted at /content/gdrive\n"
          ]
        }
      ]
    },
    {
      "cell_type": "markdown",
      "source": [
        "Check Colab settings."
      ],
      "metadata": {
        "id": "jED3QvTAsG-P"
      }
    },
    {
      "cell_type": "code",
      "source": [
        "from psutil import virtual_memory\n",
        "\n",
        "gpu_info = !nvidia-smi\n",
        "gpu_info = \"\\n\".join(gpu_info)\n",
        "if gpu_info.find(\"failed\") >= 0:\n",
        "  print(\"Not connected to a GPU\")\n",
        "else:\n",
        "  print(gpu_info)\n",
        "\n",
        "ram_gb = virtual_memory().total / 1e9\n",
        "print(f\"Your runtime has {ram_gb:.1f} gigabytes of available RAM\\n\")\n",
        "\n",
        "if ram_gb < 20:\n",
        "  print(\"Not using a high-RAM runtime\")\n",
        "else:\n",
        "  print(\"You are using a high-RAM runtime!\")"
      ],
      "metadata": {
        "colab": {
          "base_uri": "https://localhost:8080/"
        },
        "id": "v7706JOgr_Mm",
        "outputId": "de703339-a52d-4ce6-9230-c5d138548c5b"
      },
      "execution_count": 3,
      "outputs": [
        {
          "output_type": "stream",
          "name": "stdout",
          "text": [
            "/bin/bash: nvidia-smi: command not found\n",
            "Your runtime has 13.6 gigabytes of available RAM\n",
            "\n",
            "Not using a high-RAM runtime\n"
          ]
        }
      ]
    },
    {
      "cell_type": "markdown",
      "source": [
        "## Installation\n",
        "\n",
        "Install code repository"
      ],
      "metadata": {
        "id": "QgiFp08isKbL"
      }
    },
    {
      "cell_type": "code",
      "source": [
        "!git clone --depth 1 https://github.com/pezon/msca-race-simulation \n",
        "!cp -R msca-race-simulation/* ."
      ],
      "metadata": {
        "colab": {
          "base_uri": "https://localhost:8080/"
        },
        "id": "8VivUr_OsIu1",
        "outputId": "bd47ff44-75ba-47e6-d804-6dd05a6431c4"
      },
      "execution_count": 4,
      "outputs": [
        {
          "output_type": "stream",
          "name": "stdout",
          "text": [
            "Cloning into 'msca-race-simulation'...\n",
            "remote: Enumerating objects: 365, done.\u001b[K\n",
            "remote: Counting objects: 100% (365/365), done.\u001b[K\n",
            "remote: Compressing objects: 100% (304/304), done.\u001b[K\n",
            "remote: Total 365 (delta 176), reused 208 (delta 52), pack-reused 0\u001b[K\n",
            "Receiving objects: 100% (365/365), 4.15 MiB | 22.73 MiB/s, done.\n",
            "Resolving deltas: 100% (176/176), done.\n"
          ]
        }
      ]
    },
    {
      "cell_type": "markdown",
      "source": [
        "Install dependencies."
      ],
      "metadata": {
        "id": "Zv_vrs3KsRfQ"
      }
    },
    {
      "cell_type": "code",
      "source": [
        "!pip install -r requirements.txt"
      ],
      "metadata": {
        "colab": {
          "base_uri": "https://localhost:8080/"
        },
        "id": "o72rJhQfsPpY",
        "outputId": "a3f249c1-953e-4e46-ef83-0b4edfd8e00d"
      },
      "execution_count": 5,
      "outputs": [
        {
          "output_type": "stream",
          "name": "stdout",
          "text": [
            "Looking in indexes: https://pypi.org/simple, https://us-python.pkg.dev/colab-wheels/public/simple/\n",
            "Requirement already satisfied: numpy in /usr/local/lib/python3.10/dist-packages (from -r requirements.txt (line 2)) (1.22.4)\n",
            "Requirement already satisfied: matplotlib in /usr/local/lib/python3.10/dist-packages (from -r requirements.txt (line 3)) (3.7.1)\n",
            "Requirement already satisfied: pandas in /usr/local/lib/python3.10/dist-packages (from -r requirements.txt (line 4)) (1.5.3)\n",
            "Requirement already satisfied: scipy in /usr/local/lib/python3.10/dist-packages (from -r requirements.txt (line 5)) (1.10.1)\n",
            "Requirement already satisfied: cvxpy in /usr/local/lib/python3.10/dist-packages (from -r requirements.txt (line 8)) (1.3.1)\n",
            "Requirement already satisfied: tensorflow in /usr/local/lib/python3.10/dist-packages (from -r requirements.txt (line 11)) (2.12.0)\n",
            "Requirement already satisfied: tensorflow-probability in /usr/local/lib/python3.10/dist-packages (from -r requirements.txt (line 14)) (0.20.1)\n",
            "Collecting tf-agents (from -r requirements.txt (line 15))\n",
            "  Downloading tf_agents-0.16.0-py3-none-any.whl (1.4 MB)\n",
            "\u001b[2K     \u001b[90m━━━━━━━━━━━━━━━━━━━━━━━━━━━━━━━━━━━━━━━━\u001b[0m \u001b[32m1.4/1.4 MB\u001b[0m \u001b[31m49.6 MB/s\u001b[0m eta \u001b[36m0:00:00\u001b[0m\n",
            "\u001b[?25hRequirement already satisfied: contourpy>=1.0.1 in /usr/local/lib/python3.10/dist-packages (from matplotlib->-r requirements.txt (line 3)) (1.0.7)\n",
            "Requirement already satisfied: cycler>=0.10 in /usr/local/lib/python3.10/dist-packages (from matplotlib->-r requirements.txt (line 3)) (0.11.0)\n",
            "Requirement already satisfied: fonttools>=4.22.0 in /usr/local/lib/python3.10/dist-packages (from matplotlib->-r requirements.txt (line 3)) (4.39.3)\n",
            "Requirement already satisfied: kiwisolver>=1.0.1 in /usr/local/lib/python3.10/dist-packages (from matplotlib->-r requirements.txt (line 3)) (1.4.4)\n",
            "Requirement already satisfied: packaging>=20.0 in /usr/local/lib/python3.10/dist-packages (from matplotlib->-r requirements.txt (line 3)) (23.1)\n",
            "Requirement already satisfied: pillow>=6.2.0 in /usr/local/lib/python3.10/dist-packages (from matplotlib->-r requirements.txt (line 3)) (8.4.0)\n",
            "Requirement already satisfied: pyparsing>=2.3.1 in /usr/local/lib/python3.10/dist-packages (from matplotlib->-r requirements.txt (line 3)) (3.0.9)\n",
            "Requirement already satisfied: python-dateutil>=2.7 in /usr/local/lib/python3.10/dist-packages (from matplotlib->-r requirements.txt (line 3)) (2.8.2)\n",
            "Requirement already satisfied: pytz>=2020.1 in /usr/local/lib/python3.10/dist-packages (from pandas->-r requirements.txt (line 4)) (2022.7.1)\n",
            "Requirement already satisfied: osqp>=0.4.1 in /usr/local/lib/python3.10/dist-packages (from cvxpy->-r requirements.txt (line 8)) (0.6.2.post8)\n",
            "Requirement already satisfied: ecos>=2 in /usr/local/lib/python3.10/dist-packages (from cvxpy->-r requirements.txt (line 8)) (2.0.12)\n",
            "Requirement already satisfied: scs>=1.1.6 in /usr/local/lib/python3.10/dist-packages (from cvxpy->-r requirements.txt (line 8)) (3.2.3)\n",
            "Requirement already satisfied: setuptools>65.5.1 in /usr/local/lib/python3.10/dist-packages (from cvxpy->-r requirements.txt (line 8)) (67.7.2)\n",
            "Requirement already satisfied: absl-py>=1.0.0 in /usr/local/lib/python3.10/dist-packages (from tensorflow->-r requirements.txt (line 11)) (1.4.0)\n",
            "Requirement already satisfied: astunparse>=1.6.0 in /usr/local/lib/python3.10/dist-packages (from tensorflow->-r requirements.txt (line 11)) (1.6.3)\n",
            "Requirement already satisfied: flatbuffers>=2.0 in /usr/local/lib/python3.10/dist-packages (from tensorflow->-r requirements.txt (line 11)) (23.3.3)\n",
            "Requirement already satisfied: gast<=0.4.0,>=0.2.1 in /usr/local/lib/python3.10/dist-packages (from tensorflow->-r requirements.txt (line 11)) (0.4.0)\n",
            "Requirement already satisfied: google-pasta>=0.1.1 in /usr/local/lib/python3.10/dist-packages (from tensorflow->-r requirements.txt (line 11)) (0.2.0)\n",
            "Requirement already satisfied: grpcio<2.0,>=1.24.3 in /usr/local/lib/python3.10/dist-packages (from tensorflow->-r requirements.txt (line 11)) (1.54.0)\n",
            "Requirement already satisfied: h5py>=2.9.0 in /usr/local/lib/python3.10/dist-packages (from tensorflow->-r requirements.txt (line 11)) (3.8.0)\n",
            "Requirement already satisfied: jax>=0.3.15 in /usr/local/lib/python3.10/dist-packages (from tensorflow->-r requirements.txt (line 11)) (0.4.8)\n",
            "Requirement already satisfied: keras<2.13,>=2.12.0 in /usr/local/lib/python3.10/dist-packages (from tensorflow->-r requirements.txt (line 11)) (2.12.0)\n",
            "Requirement already satisfied: libclang>=13.0.0 in /usr/local/lib/python3.10/dist-packages (from tensorflow->-r requirements.txt (line 11)) (16.0.0)\n",
            "Requirement already satisfied: opt-einsum>=2.3.2 in /usr/local/lib/python3.10/dist-packages (from tensorflow->-r requirements.txt (line 11)) (3.3.0)\n",
            "Requirement already satisfied: protobuf!=4.21.0,!=4.21.1,!=4.21.2,!=4.21.3,!=4.21.4,!=4.21.5,<5.0.0dev,>=3.20.3 in /usr/local/lib/python3.10/dist-packages (from tensorflow->-r requirements.txt (line 11)) (3.20.3)\n",
            "Requirement already satisfied: six>=1.12.0 in /usr/local/lib/python3.10/dist-packages (from tensorflow->-r requirements.txt (line 11)) (1.16.0)\n",
            "Requirement already satisfied: tensorboard<2.13,>=2.12 in /usr/local/lib/python3.10/dist-packages (from tensorflow->-r requirements.txt (line 11)) (2.12.2)\n",
            "Requirement already satisfied: tensorflow-estimator<2.13,>=2.12.0 in /usr/local/lib/python3.10/dist-packages (from tensorflow->-r requirements.txt (line 11)) (2.12.0)\n",
            "Requirement already satisfied: termcolor>=1.1.0 in /usr/local/lib/python3.10/dist-packages (from tensorflow->-r requirements.txt (line 11)) (2.3.0)\n",
            "Requirement already satisfied: typing-extensions>=3.6.6 in /usr/local/lib/python3.10/dist-packages (from tensorflow->-r requirements.txt (line 11)) (4.5.0)\n",
            "Requirement already satisfied: wrapt<1.15,>=1.11.0 in /usr/local/lib/python3.10/dist-packages (from tensorflow->-r requirements.txt (line 11)) (1.14.1)\n",
            "Requirement already satisfied: tensorflow-io-gcs-filesystem>=0.23.1 in /usr/local/lib/python3.10/dist-packages (from tensorflow->-r requirements.txt (line 11)) (0.32.0)\n",
            "Requirement already satisfied: decorator in /usr/local/lib/python3.10/dist-packages (from tensorflow-probability->-r requirements.txt (line 14)) (4.4.2)\n",
            "Requirement already satisfied: cloudpickle>=1.3 in /usr/local/lib/python3.10/dist-packages (from tensorflow-probability->-r requirements.txt (line 14)) (2.2.1)\n",
            "Requirement already satisfied: dm-tree in /usr/local/lib/python3.10/dist-packages (from tensorflow-probability->-r requirements.txt (line 14)) (0.1.8)\n",
            "Requirement already satisfied: gin-config>=0.4.0 in /usr/local/lib/python3.10/dist-packages (from tf-agents->-r requirements.txt (line 15)) (0.5.0)\n",
            "Collecting gym<=0.23.0,>=0.17.0 (from tf-agents->-r requirements.txt (line 15))\n",
            "  Downloading gym-0.23.0.tar.gz (624 kB)\n",
            "\u001b[2K     \u001b[90m━━━━━━━━━━━━━━━━━━━━━━━━━━━━━━━━━━━━━━\u001b[0m \u001b[32m624.4/624.4 kB\u001b[0m \u001b[31m48.9 MB/s\u001b[0m eta \u001b[36m0:00:00\u001b[0m\n",
            "\u001b[?25h  Installing build dependencies ... \u001b[?25l\u001b[?25hdone\n",
            "  Getting requirements to build wheel ... \u001b[?25l\u001b[?25hdone\n",
            "  Preparing metadata (pyproject.toml) ... \u001b[?25l\u001b[?25hdone\n",
            "Collecting pygame==2.1.3 (from tf-agents->-r requirements.txt (line 15))\n",
            "  Downloading pygame-2.1.3-cp310-cp310-manylinux_2_17_x86_64.manylinux2014_x86_64.whl (13.7 MB)\n",
            "\u001b[2K     \u001b[90m━━━━━━━━━━━━━━━━━━━━━━━━━━━━━━━━━━━━━━━━\u001b[0m \u001b[32m13.7/13.7 MB\u001b[0m \u001b[31m54.5 MB/s\u001b[0m eta \u001b[36m0:00:00\u001b[0m\n",
            "\u001b[?25hCollecting tensorflow-probability (from -r requirements.txt (line 14))\n",
            "  Downloading tensorflow_probability-0.19.0-py2.py3-none-any.whl (6.7 MB)\n",
            "\u001b[2K     \u001b[90m━━━━━━━━━━━━━━━━━━━━━━━━━━━━━━━━━━━━━━━━\u001b[0m \u001b[32m6.7/6.7 MB\u001b[0m \u001b[31m70.9 MB/s\u001b[0m eta \u001b[36m0:00:00\u001b[0m\n",
            "\u001b[?25hRequirement already satisfied: wheel<1.0,>=0.23.0 in /usr/local/lib/python3.10/dist-packages (from astunparse>=1.6.0->tensorflow->-r requirements.txt (line 11)) (0.40.0)\n",
            "Requirement already satisfied: gym-notices>=0.0.4 in /usr/local/lib/python3.10/dist-packages (from gym<=0.23.0,>=0.17.0->tf-agents->-r requirements.txt (line 15)) (0.0.8)\n",
            "Requirement already satisfied: ml-dtypes>=0.0.3 in /usr/local/lib/python3.10/dist-packages (from jax>=0.3.15->tensorflow->-r requirements.txt (line 11)) (0.1.0)\n",
            "Requirement already satisfied: qdldl in /usr/local/lib/python3.10/dist-packages (from osqp>=0.4.1->cvxpy->-r requirements.txt (line 8)) (0.1.7)\n",
            "Requirement already satisfied: google-auth<3,>=1.6.3 in /usr/local/lib/python3.10/dist-packages (from tensorboard<2.13,>=2.12->tensorflow->-r requirements.txt (line 11)) (2.17.3)\n",
            "Requirement already satisfied: google-auth-oauthlib<1.1,>=0.5 in /usr/local/lib/python3.10/dist-packages (from tensorboard<2.13,>=2.12->tensorflow->-r requirements.txt (line 11)) (1.0.0)\n",
            "Requirement already satisfied: markdown>=2.6.8 in /usr/local/lib/python3.10/dist-packages (from tensorboard<2.13,>=2.12->tensorflow->-r requirements.txt (line 11)) (3.4.3)\n",
            "Requirement already satisfied: requests<3,>=2.21.0 in /usr/local/lib/python3.10/dist-packages (from tensorboard<2.13,>=2.12->tensorflow->-r requirements.txt (line 11)) (2.27.1)\n",
            "Requirement already satisfied: tensorboard-data-server<0.8.0,>=0.7.0 in /usr/local/lib/python3.10/dist-packages (from tensorboard<2.13,>=2.12->tensorflow->-r requirements.txt (line 11)) (0.7.0)\n",
            "Requirement already satisfied: tensorboard-plugin-wit>=1.6.0 in /usr/local/lib/python3.10/dist-packages (from tensorboard<2.13,>=2.12->tensorflow->-r requirements.txt (line 11)) (1.8.1)\n",
            "Requirement already satisfied: werkzeug>=1.0.1 in /usr/local/lib/python3.10/dist-packages (from tensorboard<2.13,>=2.12->tensorflow->-r requirements.txt (line 11)) (2.3.0)\n",
            "Requirement already satisfied: cachetools<6.0,>=2.0.0 in /usr/local/lib/python3.10/dist-packages (from google-auth<3,>=1.6.3->tensorboard<2.13,>=2.12->tensorflow->-r requirements.txt (line 11)) (5.3.0)\n",
            "Requirement already satisfied: pyasn1-modules>=0.2.1 in /usr/local/lib/python3.10/dist-packages (from google-auth<3,>=1.6.3->tensorboard<2.13,>=2.12->tensorflow->-r requirements.txt (line 11)) (0.3.0)\n",
            "Requirement already satisfied: rsa<5,>=3.1.4 in /usr/local/lib/python3.10/dist-packages (from google-auth<3,>=1.6.3->tensorboard<2.13,>=2.12->tensorflow->-r requirements.txt (line 11)) (4.9)\n",
            "Requirement already satisfied: requests-oauthlib>=0.7.0 in /usr/local/lib/python3.10/dist-packages (from google-auth-oauthlib<1.1,>=0.5->tensorboard<2.13,>=2.12->tensorflow->-r requirements.txt (line 11)) (1.3.1)\n",
            "Requirement already satisfied: urllib3<1.27,>=1.21.1 in /usr/local/lib/python3.10/dist-packages (from requests<3,>=2.21.0->tensorboard<2.13,>=2.12->tensorflow->-r requirements.txt (line 11)) (1.26.15)\n",
            "Requirement already satisfied: certifi>=2017.4.17 in /usr/local/lib/python3.10/dist-packages (from requests<3,>=2.21.0->tensorboard<2.13,>=2.12->tensorflow->-r requirements.txt (line 11)) (2022.12.7)\n",
            "Requirement already satisfied: charset-normalizer~=2.0.0 in /usr/local/lib/python3.10/dist-packages (from requests<3,>=2.21.0->tensorboard<2.13,>=2.12->tensorflow->-r requirements.txt (line 11)) (2.0.12)\n",
            "Requirement already satisfied: idna<4,>=2.5 in /usr/local/lib/python3.10/dist-packages (from requests<3,>=2.21.0->tensorboard<2.13,>=2.12->tensorflow->-r requirements.txt (line 11)) (3.4)\n",
            "Requirement already satisfied: MarkupSafe>=2.1.1 in /usr/local/lib/python3.10/dist-packages (from werkzeug>=1.0.1->tensorboard<2.13,>=2.12->tensorflow->-r requirements.txt (line 11)) (2.1.2)\n",
            "Requirement already satisfied: pyasn1<0.6.0,>=0.4.6 in /usr/local/lib/python3.10/dist-packages (from pyasn1-modules>=0.2.1->google-auth<3,>=1.6.3->tensorboard<2.13,>=2.12->tensorflow->-r requirements.txt (line 11)) (0.5.0)\n",
            "Requirement already satisfied: oauthlib>=3.0.0 in /usr/local/lib/python3.10/dist-packages (from requests-oauthlib>=0.7.0->google-auth-oauthlib<1.1,>=0.5->tensorboard<2.13,>=2.12->tensorflow->-r requirements.txt (line 11)) (3.2.2)\n",
            "Building wheels for collected packages: gym\n",
            "  Building wheel for gym (pyproject.toml) ... \u001b[?25l\u001b[?25hdone\n",
            "  Created wheel for gym: filename=gym-0.23.0-py3-none-any.whl size=697641 sha256=c2ffe3380a22dc4f364d34f5e0a22440c2d456751834653fbaed7b1ddd200aca\n",
            "  Stored in directory: /root/.cache/pip/wheels/3d/6f/b4/3991d4fae11d0ecb0754c11cc1b4e7745012850da4efaaf0b1\n",
            "Successfully built gym\n",
            "Installing collected packages: tensorflow-probability, pygame, gym, tf-agents\n",
            "  Attempting uninstall: tensorflow-probability\n",
            "    Found existing installation: tensorflow-probability 0.20.1\n",
            "    Uninstalling tensorflow-probability-0.20.1:\n",
            "      Successfully uninstalled tensorflow-probability-0.20.1\n",
            "  Attempting uninstall: pygame\n",
            "    Found existing installation: pygame 2.3.0\n",
            "    Uninstalling pygame-2.3.0:\n",
            "      Successfully uninstalled pygame-2.3.0\n",
            "  Attempting uninstall: gym\n",
            "    Found existing installation: gym 0.25.2\n",
            "    Uninstalling gym-0.25.2:\n",
            "      Successfully uninstalled gym-0.25.2\n",
            "Successfully installed gym-0.23.0 pygame-2.1.3 tensorflow-probability-0.19.0 tf-agents-0.16.0\n"
          ]
        }
      ]
    },
    {
      "cell_type": "markdown",
      "source": [
        "## Initialization\n",
        "\n",
        "Import libraries"
      ],
      "metadata": {
        "id": "F9lyUKrQsVdp"
      }
    },
    {
      "cell_type": "code",
      "source": [
        "from concurrent import futures  # required for parallel computing\n",
        "import os\n",
        "import pickle\n",
        "import time\n",
        "import warnings\n",
        "from datetime import datetime\n",
        "from pathlib import Path\n",
        "from pprint import pprint\n",
        "\n",
        "import numpy as np\n",
        "\n",
        "import racesim\n",
        "import helper_funcs\n",
        "from racesim.src.check_pars import check_pars\n",
        "from racesim.src.import_pars import import_pars\n",
        "from racesim.src.race_handle import race_handle\n",
        "from racesim.src.mcs_analysis import mcs_analysis\n",
        "\n",
        "warnings.filterwarnings(\"ignore\")\n",
        "\n",
        "run_id = datetime.today().strftime(\"%Y-%m-%d-%M-%H\")\n",
        "\n",
        "# Set working directories\n",
        "results_dir = Path(RESULTS_DIR)\n",
        "run_dir = results_dir / \"simulations\" / run_id\n",
        "results_dir = run_dir / \"results\"\n",
        "invalid_dir = run_dir / \"invalid\"\n",
        "samples_dir = run_dir / \"samples\"\n",
        "\n",
        "# Create directories\n",
        "results_dir.mkdir(exist_ok=True, parents=True)\n",
        "invalid_dir.mkdir(exist_ok=True, parents=True)\n",
        "samples_dir.mkdir(exist_ok=True, parents=True)\n",
        "\n",
        "print(f\"{results_dir=!s}\")\n",
        "print(f\"{invalid_dir=!s}\")\n",
        "print(f\"{samples_dir=!s}\")"
      ],
      "metadata": {
        "colab": {
          "base_uri": "https://localhost:8080/"
        },
        "id": "vzqXinfmtBPW",
        "outputId": "1377bad6-76cf-450f-b946-f495fc73cd51"
      },
      "execution_count": 6,
      "outputs": [
        {
          "output_type": "stream",
          "name": "stdout",
          "text": [
            "results_dir=/content/gdrive/MyDrive/RLF002/sim/Shanghai_2019_5000/simulations/2023-05-23-46-01/results\n",
            "invalid_dir=/content/gdrive/MyDrive/RLF002/sim/Shanghai_2019_5000/simulations/2023-05-23-46-01/invalid\n",
            "samples_dir=/content/gdrive/MyDrive/RLF002/sim/Shanghai_2019_5000/simulations/2023-05-23-46-01/samples\n"
          ]
        }
      ]
    },
    {
      "cell_type": "markdown",
      "source": [
        "## Check parameters\n",
        "\n",
        "Load and check parameters"
      ],
      "metadata": {
        "id": "Hh-2Mitvwdh-"
      }
    },
    {
      "cell_type": "code",
      "source": [
        "# Load parameters\n",
        "pars_in, _ = import_pars(\n",
        "    use_print=sim_opts[\"use_print\"],\n",
        "    use_vse=False,  # sim_opts[\"use_vse\"],\n",
        "    race_pars_file=RACE_PARAMS_FILE,\n",
        "    mcs_pars_file=MCS_PARAMS_FILE)\n",
        "\n",
        "# Check parameters\n",
        "racesim.src.check_pars.check_pars(\n",
        "    sim_opts=sim_opts,\n",
        "    pars_in=pars_in)"
      ],
      "metadata": {
        "colab": {
          "base_uri": "https://localhost:8080/"
        },
        "id": "p0e2qWajKE-p",
        "outputId": "ce8ef09c-e94e-47b6-b796-a82539604479"
      },
      "execution_count": 7,
      "outputs": [
        {
          "output_type": "stream",
          "name": "stdout",
          "text": [
            "INFO: Loading race parameters...\n",
            "INFO: Loading MCS parameters...\n",
            "INFO: Checking user input...\n",
            "INFO: FCY phases for the race simulation were set as follows: [[0.818, 1.392, 'VSC', None, None]]\n",
            "INFO: Retirements for the race simulation were set as follows: [['HUL', 16.5], ['KVY', 41.5], ['NOR', 50.5]]\n",
            "INFO: Using VSE (virtual strategy engineer) to take tire change decisions!\n"
          ]
        }
      ]
    },
    {
      "cell_type": "markdown",
      "source": [
        "VSE Settings"
      ],
      "metadata": {
        "id": "gnQsDKIQwi7_"
      }
    },
    {
      "cell_type": "code",
      "source": [
        "# Update VSE parameters\n",
        "pars_in[\"vse_pars\"][\"vse_type\"] = vse_types\n",
        "\n",
        "print(\"VSE types:\")\n",
        "pprint(pars_in['vse_pars']['vse_type'])\n",
        "\n",
        "print(\"VSE paths:\")\n",
        "pprint(vse_paths)"
      ],
      "metadata": {
        "colab": {
          "base_uri": "https://localhost:8080/"
        },
        "id": "LzhP-57MwhyX",
        "outputId": "bbeadb48-8105-465d-9ca3-2ee0c6102e51"
      },
      "execution_count": 8,
      "outputs": [
        {
          "output_type": "stream",
          "name": "stdout",
          "text": [
            "VSE types:\n",
            "{'ALB': 'reinforcement',\n",
            " 'BOT': 'reinforcement',\n",
            " 'GAS': 'reinforcement',\n",
            " 'GIO': 'reinforcement',\n",
            " 'GRO': 'reinforcement',\n",
            " 'HAM': 'reinforcement',\n",
            " 'HUL': 'reinforcement',\n",
            " 'KUB': 'reinforcement',\n",
            " 'KVY': 'reinforcement',\n",
            " 'LEC': 'reinforcement',\n",
            " 'MAG': 'reinforcement',\n",
            " 'NOR': 'reinforcement',\n",
            " 'PER': 'reinforcement',\n",
            " 'RAI': 'reinforcement',\n",
            " 'RIC': 'reinforcement',\n",
            " 'RUS': 'reinforcement',\n",
            " 'SAI': 'reinforcement',\n",
            " 'STR': 'reinforcement',\n",
            " 'VER': 'reinforcement',\n",
            " 'VET': 'reinforcement'}\n",
            "VSE paths:\n",
            "{'reinf_nnmodel': '/content/gdrive/MyDrive/RLF002/vse-002/exports/2023-05-21-final/nn_reinforcement_Shanghai_2019.tflite',\n",
            " 'reinf_preprocessor': '/content/gdrive/MyDrive/RLF002/vse-002/exports/2023-05-21-final/preprocessor_reinforcement_Shanghai_2019.pkl',\n",
            " 'supervised_nnmodel_cc': '/content/racesim/input/vse/nn_supervised_compoundchoice.tflite',\n",
            " 'supervised_nnmodel_tc': '/content/racesim/input/vse/nn_supervised_tirechange.tflite',\n",
            " 'supervised_preprocessor_cc': '/content/racesim/input/vse/preprocessor_supervised_compoundchoice.pkl',\n",
            " 'supervised_preprocessor_tc': '/content/racesim/input/vse/preprocessor_supervised_tirechange.pkl'}\n"
          ]
        }
      ]
    },
    {
      "cell_type": "markdown",
      "source": [
        "Race parameters"
      ],
      "metadata": {
        "id": "tjZK2KF5wx3X"
      }
    },
    {
      "cell_type": "code",
      "source": [
        "pars_in[\"race_pars\"]"
      ],
      "metadata": {
        "colab": {
          "base_uri": "https://localhost:8080/"
        },
        "id": "0qsLGiMnwPFV",
        "outputId": "79168a10-6479-4d31-d843-ffb31743d36b"
      },
      "execution_count": 9,
      "outputs": [
        {
          "output_type": "execute_result",
          "data": {
            "text/plain": [
              "{'season': 2019,\n",
              " 'tot_no_laps': 56,\n",
              " 'min_t_dist': 0.5,\n",
              " 'min_t_dist_sc': 0.8,\n",
              " 't_duel': 0.3,\n",
              " 't_overtake_loser': 0.3,\n",
              " 'use_drs': True,\n",
              " 'drs_window': 1.0,\n",
              " 'drs_allow_lap': 3,\n",
              " 'drs_sc_delay': 2,\n",
              " 'participants': ['HAM',\n",
              "  'RIC',\n",
              "  'MAG',\n",
              "  'HUL',\n",
              "  'KVY',\n",
              "  'RAI',\n",
              "  'VET',\n",
              "  'BOT',\n",
              "  'PER',\n",
              "  'GRO',\n",
              "  'SAI',\n",
              "  'VER',\n",
              "  'GIO',\n",
              "  'STR',\n",
              "  'GAS',\n",
              "  'LEC',\n",
              "  'NOR',\n",
              "  'ALB',\n",
              "  'RUS',\n",
              "  'KUB']}"
            ]
          },
          "metadata": {},
          "execution_count": 9
        }
      ]
    },
    {
      "cell_type": "markdown",
      "source": [
        "Track parameters"
      ],
      "metadata": {
        "id": "K9XVpU8Ew6gy"
      }
    },
    {
      "cell_type": "code",
      "source": [
        "pars_in[\"track_pars\"]"
      ],
      "metadata": {
        "colab": {
          "base_uri": "https://localhost:8080/"
        },
        "id": "IS468dl4xAU6",
        "outputId": "5d1fd5f5-8865-4837-ec73-62c970c9f301"
      },
      "execution_count": 10,
      "outputs": [
        {
          "output_type": "execute_result",
          "data": {
            "text/plain": [
              "{'name': 'Shanghai',\n",
              " 't_q': 91.547,\n",
              " 't_gap_racepace': 1.812,\n",
              " 't_lap_sens_mass': 0.031,\n",
              " 't_pit_tirechange_min': 1.9,\n",
              " 't_pitdrive_inlap': 4.881,\n",
              " 't_pitdrive_outlap': 15.045,\n",
              " 't_pitdrive_inlap_fcy': 2.512,\n",
              " 't_pitdrive_outlap_fcy': 12.04,\n",
              " 't_pitdrive_inlap_sc': 0.545,\n",
              " 't_pitdrive_outlap_sc': 11.37,\n",
              " 'pits_aft_finishline': True,\n",
              " 't_loss_pergridpos': 0.139,\n",
              " 't_loss_firstlap': 2.238,\n",
              " 't_gap_overtake': 1.5,\n",
              " 't_gap_overtake_vel': -0.037,\n",
              " 't_drseffect': -0.553,\n",
              " 'mult_t_lap_sc': 1.6,\n",
              " 'mult_t_lap_fcy': 1.4}"
            ]
          },
          "metadata": {},
          "execution_count": 10
        }
      ]
    },
    {
      "cell_type": "markdown",
      "source": [
        "Tire degradation parameters fitted to driver"
      ],
      "metadata": {
        "id": "G9TSR4PHxW5-"
      }
    },
    {
      "cell_type": "code",
      "source": [
        "pars_in[\"tireset_pars\"][\"LEC\"]"
      ],
      "metadata": {
        "colab": {
          "base_uri": "https://localhost:8080/"
        },
        "id": "baiNSwC3xYJK",
        "outputId": "c83af07e-4f3b-4e05-f4c4-e25b03d3036e"
      },
      "execution_count": 11,
      "outputs": [
        {
          "output_type": "execute_result",
          "data": {
            "text/plain": [
              "{'tire_deg_model': 'lin',\n",
              " 'mult_tiredeg_sc': 0.25,\n",
              " 'mult_tiredeg_fcy': 0.5,\n",
              " 't_add_coldtires': 1.0,\n",
              " 'A3': {'k_0': 0.4731,\n",
              "  'k_1_lin': 0.0963,\n",
              "  'k_1_quad': 0.0937,\n",
              "  'k_2_quad': 0.0002},\n",
              " 'A4': {'k_0': 0.0, 'k_1_lin': 0.1501, 'k_1_quad': 0.1486, 'k_2_quad': 0.0001},\n",
              " 'A6': {'k_0': 1.3218,\n",
              "  'k_1_lin': 0.0367,\n",
              "  'k_1_quad': 0.0323,\n",
              "  'k_2_quad': 0.0003}}"
            ]
          },
          "metadata": {},
          "execution_count": 11
        }
      ]
    },
    {
      "cell_type": "markdown",
      "source": [
        "Car/team parameters"
      ],
      "metadata": {
        "id": "UOdzZXj9xNsY"
      }
    },
    {
      "cell_type": "code",
      "source": [
        "pars_in[\"car_pars\"][\"Ferrari\"]"
      ],
      "metadata": {
        "colab": {
          "base_uri": "https://localhost:8080/"
        },
        "id": "hvJI-7M3xPSk",
        "outputId": "73051ad6-935b-4930-ebc2-fa75a6ddf11f"
      },
      "execution_count": 12,
      "outputs": [
        {
          "output_type": "execute_result",
          "data": {
            "text/plain": [
              "{'drivetype': 'combustion',\n",
              " 'manufacturer': 'Ferrari',\n",
              " 't_car': 0.317,\n",
              " 'm_fuel': 110.0,\n",
              " 'b_fuel_perlap': 1.964,\n",
              " 'energy': None,\n",
              " 'energy_perlap': None,\n",
              " 'mult_consumption_sc': 0.25,\n",
              " 'mult_consumption_fcy': 0.5,\n",
              " 'auto_consumption_adjust': True,\n",
              " 't_pit_tirechange_add': 0.584,\n",
              " 't_pit_refuel_perkg': None,\n",
              " 't_pit_charge_perkwh': None,\n",
              " 'color': '#DC0000',\n",
              " 'p_failure': 0.086,\n",
              " 't_pit_var_fisk_pars': [2.414, -0.153, 0.737]}"
            ]
          },
          "metadata": {},
          "execution_count": 12
        }
      ]
    },
    {
      "cell_type": "markdown",
      "source": [
        "Driver parameters"
      ],
      "metadata": {
        "id": "J__i4mpMx3eV"
      }
    },
    {
      "cell_type": "code",
      "source": [
        "pars_in[\"driver_pars\"][\"LEC\"]"
      ],
      "metadata": {
        "colab": {
          "base_uri": "https://localhost:8080/"
        },
        "id": "nt6qAepSx8ho",
        "outputId": "eb93bf34-6f7f-4af6-ae9c-6c1736e80b3f"
      },
      "execution_count": 13,
      "outputs": [
        {
          "output_type": "execute_result",
          "data": {
            "text/plain": [
              "{'carno': 16,\n",
              " 'name': 'Charles Leclerc',\n",
              " 'initials': 'LEC',\n",
              " 'team': 'Ferrari',\n",
              " 't_driver': 0.0,\n",
              " 'strategy_info': [[0, 'A4', 2, 0.0], [22, 'A3', 0, 0.0], [42, 'A4', 0, 0.0]],\n",
              " 'p_grid': 4,\n",
              " 't_teamorder': 0.0,\n",
              " 'vel_max': 325.6,\n",
              " 'p_accident': 0.058,\n",
              " 't_lap_var_sigma': 0.533,\n",
              " 't_startperf': {'mean': -0.042, 'sigma': 0.125}}"
            ]
          },
          "metadata": {},
          "execution_count": 13
        }
      ]
    },
    {
      "cell_type": "markdown",
      "source": [
        "Race day events: full course yellow and retirements"
      ],
      "metadata": {
        "id": "r6kcnoPByHFD"
      }
    },
    {
      "cell_type": "code",
      "source": [
        "pars_in[\"event_pars\"]"
      ],
      "metadata": {
        "colab": {
          "base_uri": "https://localhost:8080/"
        },
        "id": "61LSurXnyJ8R",
        "outputId": "033543d1-b219-457f-c70d-ed3170818b58"
      },
      "execution_count": 14,
      "outputs": [
        {
          "output_type": "execute_result",
          "data": {
            "text/plain": [
              "{'fcy_data': {'phases': [[0.818, 1.392, 'VSC', None, None]],\n",
              "  'domain': 'progress'},\n",
              " 'retire_data': {'retirements': [['HUL', 16.5], ['KVY', 41.5], ['NOR', 50.5]],\n",
              "  'domain': 'progress'}}"
            ]
          },
          "metadata": {},
          "execution_count": 14
        }
      ]
    },
    {
      "cell_type": "code",
      "source": [
        "pars_in[\"monte_carlo_pars\"]"
      ],
      "metadata": {
        "colab": {
          "base_uri": "https://localhost:8080/"
        },
        "id": "jqWzq8ChwRvO",
        "outputId": "2c084163-d014-41f2-ebea-e03327442b51"
      },
      "execution_count": 15,
      "outputs": [
        {
          "output_type": "execute_result",
          "data": {
            "text/plain": [
              "{'min_dist_sc': 1.5,\n",
              " 'min_dist_vsc': 1.5,\n",
              " 'ref_driver': 'HAM',\n",
              " 'p_sc_quant': [0.455, 0.413, 0.099, 0.033],\n",
              " 'p_sc_start': [0.364, 0.136, 0.136, 0.08, 0.193, 0.091],\n",
              " 'p_sc_duration': [0.0,\n",
              "  0.182,\n",
              "  0.25,\n",
              "  0.227,\n",
              "  0.193,\n",
              "  0.057,\n",
              "  0.068,\n",
              "  0.023,\n",
              "  0.0,\n",
              "  0.0],\n",
              " 'p_vsc_aft_failure': 0.227,\n",
              " 'p_vsc_duration': [0.479, 0.396, 0.021, 0.104]}"
            ]
          },
          "metadata": {},
          "execution_count": 15
        }
      ]
    },
    {
      "cell_type": "markdown",
      "source": [
        "## Simulate \n",
        "\n",
        "Uses single processor approach."
      ],
      "metadata": {
        "id": "eQ2C7GKLH60m"
      }
    },
    {
      "cell_type": "code",
      "source": [
        "# create list containing the simulated race object (single run) or dicts with valid results (multiple runs)\n",
        "race_results = []\n",
        "\n",
        "# save start time for runtime calculation\n",
        "if sim_opts[\"use_print\"]:\n",
        "    print(\"INFO: Starting simulations...\")\n",
        "t_start = time.perf_counter()\n",
        "\n",
        "# iteration variables\n",
        "no_sim_runs_left = sim_opts[\"no_sim_runs\"]  # counter for the number of races left for simulation\n",
        "ctr_invalid = 0                             # counter for the number of simulated races marked as invalid\n",
        "\n",
        "# SINGLE PROCESS ---------------------------------------------------------------------------------------------------\n",
        "while no_sim_runs_left > 0:\n",
        "    # simulate race\n",
        "    race = race_handle(\n",
        "        pars_in=pars_in,\n",
        "        use_prob_infl=sim_opts[\"use_prob_infl\"],\n",
        "        create_rand_events=sim_opts[\"create_rand_events\"],\n",
        "        vse_paths=vse_paths)\n",
        "    no_sim_runs_left -= 1\n",
        "\n",
        "    # CASE 1: result is valid\n",
        "    if race.result_status == 0:\n",
        "        # save race object for later evaluation (single race) or simple race results (MCS)\n",
        "        if sim_opts[\"no_sim_runs\"] > 1:\n",
        "            race_results.append(race.get_race_results())\n",
        "        else:\n",
        "            race_results.append(race)\n",
        "\n",
        "    # CASE 2: result is invalid\n",
        "    else:\n",
        "        # increase no_sim_runs_left\n",
        "        ctr_invalid += 1\n",
        "        no_sim_runs_left += 1\n",
        "\n",
        "        # pickle race object for further analysis\n",
        "        if race.result_status >= 10 or race.result_status == -1:\n",
        "            cur_time_str = time.strftime(\"%Y%m%d_%H%M%S\")\n",
        "            invalid_race_file = invalid_dir / f\"{cur_time_str}_invalid_race_{ctr_invalid}_{race.result_status}.pkl\"\n",
        "            with open(invalid_race_file, \"wb\") as fh:\n",
        "                pickle.dump(race, fh)\n",
        "\n",
        "    # print progressbar\n",
        "    if sim_opts[\"use_print\"]:\n",
        "        helper_funcs.src.progressbar.progressbar(\n",
        "            i=sim_opts[\"no_sim_runs\"] - no_sim_runs_left,\n",
        "            i_total=sim_opts[\"no_sim_runs\"],\n",
        "            prefix=\"INFO: Simulation progress:\")\n",
        "\n",
        "# print number of invalid races\n",
        "if sim_opts[\"use_print\"]:\n",
        "    print(f\"INFO: There were {ctr_invalid} invalid races!\")\n",
        "\n",
        "# print runtime into console window\n",
        "if sim_opts[\"use_print\"]:\n",
        "    runtime = time.perf_counter() - t_start\n",
        "    print(f\"INFO: Simulation runtime: {runtime:.3f}s ({runtime / sim_opts['no_sim_runs'] * 1000:.3f}ms per race)\")"
      ],
      "metadata": {
        "colab": {
          "base_uri": "https://localhost:8080/"
        },
        "id": "pFb__CLTw5rS",
        "outputId": "248c227c-22fa-419a-f248-8d39b62413df"
      },
      "execution_count": 17,
      "outputs": [
        {
          "output_type": "stream",
          "name": "stdout",
          "text": [
            "INFO: Starting simulations...\n",
            "INFO: Simulation progress: |███-----------------------------------------------| 6.0% WARNING: Had to enforce a pit stop or another tire compound for reinforcement VSE above 95%% race progress (driver at index {idx_driver} of reinforcement drivers)!\n",
            "INFO: Simulation progress: |████----------------------------------------------| 8.0% WARNING: Had to enforce a pit stop or another tire compound for reinforcement VSE above 95%% race progress (driver at index {idx_driver} of reinforcement drivers)!\n",
            "INFO: Simulation progress: |██████████----------------------------------------| 20.0% WARNING: Had to enforce a pit stop or another tire compound for reinforcement VSE above 95%% race progress (driver at index {idx_driver} of reinforcement drivers)!\n",
            "INFO: Simulation progress: |██████████----------------------------------------| 21.0% WARNING: Had to enforce a pit stop or another tire compound for reinforcement VSE above 95%% race progress (driver at index {idx_driver} of reinforcement drivers)!\n",
            "INFO: Simulation progress: |███████████████-----------------------------------| 31.0% WARNING: Had to enforce a pit stop or another tire compound for reinforcement VSE above 95%% race progress (driver at index {idx_driver} of reinforcement drivers)!\n",
            "INFO: Simulation progress: |███████████████████-------------------------------| 39.0% WARNING: Had to enforce a pit stop or another tire compound for reinforcement VSE above 95%% race progress (driver at index {idx_driver} of reinforcement drivers)!\n",
            "INFO: Simulation progress: |█████████████████████-----------------------------| 42.0% WARNING: Had to enforce a pit stop or another tire compound for reinforcement VSE above 95%% race progress (driver at index {idx_driver} of reinforcement drivers)!\n",
            "WARNING: Had to enforce a pit stop or another tire compound for reinforcement VSE above 95%% race progress (driver at index {idx_driver} of reinforcement drivers)!\n",
            "INFO: Simulation progress: |████████████████████████--------------------------| 48.0% WARNING: Had to enforce a pit stop or another tire compound for reinforcement VSE above 95%% race progress (driver at index {idx_driver} of reinforcement drivers)!\n",
            "INFO: Simulation progress: |█████████████████████████████---------------------| 59.0% WARNING: Had to enforce a pit stop or another tire compound for reinforcement VSE above 95%% race progress (driver at index {idx_driver} of reinforcement drivers)!\n",
            "INFO: Simulation progress: |███████████████████████████████-------------------| 63.0% WARNING: Had to enforce a pit stop or another tire compound for reinforcement VSE above 95%% race progress (driver at index {idx_driver} of reinforcement drivers)!\n",
            "INFO: Simulation progress: |█████████████████████████████████████-------------| 74.0% WARNING: Had to enforce a pit stop or another tire compound for reinforcement VSE above 95%% race progress (driver at index {idx_driver} of reinforcement drivers)!\n",
            "INFO: Simulation progress: |██████████████████████████████████████████--------| 85.0% WARNING: Had to enforce a pit stop or another tire compound for reinforcement VSE above 95%% race progress (driver at index {idx_driver} of reinforcement drivers)!\n",
            "INFO: Simulation progress: |███████████████████████████████████████████████---| 94.0% WARNING: Had to enforce a pit stop or another tire compound for reinforcement VSE above 95%% race progress (driver at index {idx_driver} of reinforcement drivers)!\n",
            "INFO: Simulation progress: |██████████████████████████████████████████████████| 100.0% \n",
            "INFO: There were 0 invalid races!\n",
            "INFO: Simulation runtime: 39.813s (398.126ms per race)\n"
          ]
        }
      ]
    },
    {
      "cell_type": "markdown",
      "source": [
        "## Results"
      ],
      "metadata": {
        "id": "gCy8HyiFPu_F"
      }
    },
    {
      "cell_type": "code",
      "source": [
        "# For a single race...\n",
        "if sim_opts[\"no_sim_runs\"] == 1:\n",
        "    race_results[0].check_valid_result()\n",
        "\n",
        "    if sim_opts[\"use_print_result\"]:\n",
        "        race_results[0].print_result()\n",
        "        race_results[0].print_details()\n",
        "\n",
        "    if sim_opts[\"use_plot\"]:\n",
        "        # race_results[0].plot_laptimes()\n",
        "        # race_results[0].plot_positions()\n",
        "        # race_results[0].plot_racetime_diffto_refdriver(1)\n",
        "        # race_results[0].plot_raceprogress_over_racetime()\n",
        "\n",
        "        # laps_simulated = race_results[0].cur_lap\n",
        "        # t_race_winner = np.sort(race_results[0].racetimes[laps_simulated, :])[0]\n",
        "        # race_results[0].plot_racetime_diffto_reflaptime(ref_laptime=t_race_winner / laps_simulated)\n",
        "        pass\n",
        "\n",
        "    # evaluation\n",
        "    race_results[0].print_race_standings(racetime=2520.2)\n",
        "\n",
        "    # save lap times, race times and positions to csv files\n",
        "    race_results[0].export_results_as_csv(results_path=results_dir)\n",
        "\n",
        "    # pickle race object for possible CI testing\n",
        "    sample_file_path = samples_dir / f\"testobj_racesim_{pars_in['track_pars']['name']}_{pars_in['race_pars']['season']}.pkl\"\n",
        "    with open(sample_file_path, \"wb\") as fh:\n",
        "        pickle.dump(race_results[0], fh)"
      ],
      "metadata": {
        "colab": {
          "base_uri": "https://localhost:8080/",
          "height": 236
        },
        "id": "Tj-ft2IvsZhI",
        "outputId": "58c10515-bf74-40d6-89fa-748a76fdd9bf"
      },
      "execution_count": 19,
      "outputs": [
        {
          "output_type": "error",
          "ename": "AttributeError",
          "evalue": "ignored",
          "traceback": [
            "\u001b[0;31m---------------------------------------------------------------------------\u001b[0m",
            "\u001b[0;31mAttributeError\u001b[0m                            Traceback (most recent call last)",
            "\u001b[0;32m<ipython-input-19-7a47f2a944c3>\u001b[0m in \u001b[0;36m<cell line: 2>\u001b[0;34m()\u001b[0m\n\u001b[1;32m      1\u001b[0m \u001b[0;31m# For a single race...\u001b[0m\u001b[0;34m\u001b[0m\u001b[0;34m\u001b[0m\u001b[0m\n\u001b[0;32m----> 2\u001b[0;31m \u001b[0mrace_results\u001b[0m\u001b[0;34m[\u001b[0m\u001b[0;36m0\u001b[0m\u001b[0;34m]\u001b[0m\u001b[0;34m.\u001b[0m\u001b[0mcheck_valid_result\u001b[0m\u001b[0;34m(\u001b[0m\u001b[0;34m)\u001b[0m\u001b[0;34m\u001b[0m\u001b[0;34m\u001b[0m\u001b[0m\n\u001b[0m\u001b[1;32m      3\u001b[0m \u001b[0;34m\u001b[0m\u001b[0m\n\u001b[1;32m      4\u001b[0m \u001b[0;32mif\u001b[0m \u001b[0msim_opts\u001b[0m\u001b[0;34m[\u001b[0m\u001b[0;34m\"use_print_result\"\u001b[0m\u001b[0;34m]\u001b[0m\u001b[0;34m:\u001b[0m\u001b[0;34m\u001b[0m\u001b[0;34m\u001b[0m\u001b[0m\n\u001b[1;32m      5\u001b[0m     \u001b[0mrace_results\u001b[0m\u001b[0;34m[\u001b[0m\u001b[0;36m0\u001b[0m\u001b[0;34m]\u001b[0m\u001b[0;34m.\u001b[0m\u001b[0mprint_result\u001b[0m\u001b[0;34m(\u001b[0m\u001b[0;34m)\u001b[0m\u001b[0;34m\u001b[0m\u001b[0;34m\u001b[0m\u001b[0m\n",
            "\u001b[0;31mAttributeError\u001b[0m: 'dict' object has no attribute 'check_valid_result'"
          ]
        }
      ]
    },
    {
      "cell_type": "markdown",
      "source": [
        "Plots!"
      ],
      "metadata": {
        "id": "Jo6wSOx2RLOQ"
      }
    },
    {
      "cell_type": "code",
      "source": [
        "if sim_opts[\"no_sim_runs\"] == 1:\n",
        "    race_results[0].plot_laptimes()\n",
        "    race_results[0].plot_positions()\n",
        "    race_results[0].plot_racetime_diffto_refdriver(1)\n",
        "    race_results[0].plot_raceprogress_over_racetime()"
      ],
      "metadata": {
        "id": "zyH23i1CQxiu"
      },
      "execution_count": 23,
      "outputs": []
    },
    {
      "cell_type": "code",
      "source": [
        "if sim_opts[\"no_sim_runs\"] == 1:\n",
        "    laps_simulated = race_results[0].cur_lap\n",
        "    t_race_winner = np.sort(race_results[0].racetimes[laps_simulated, :])[0]\n",
        "    race_results[0].plot_racetime_diffto_reflaptime(ref_laptime=t_race_winner / laps_simulated)"
      ],
      "metadata": {
        "colab": {
          "base_uri": "https://localhost:8080/",
          "height": 489
        },
        "id": "rJLRTsYqRTD-",
        "outputId": "1fc6eabf-db80-4a71-cdc4-e6f5678271ae"
      },
      "execution_count": 28,
      "outputs": [
        {
          "output_type": "display_data",
          "data": {
            "text/plain": [
              "<Figure size 640x480 with 1 Axes>"
            ],
            "image/png": "[encoded data removed]"
          },
          "metadata": {}
        }
      ]
    },
    {
      "cell_type": "markdown",
      "source": [
        "Race results histogram (for multiple races)"
      ],
      "metadata": {
        "id": "0qZqbibARC-Z"
      }
    },
    {
      "cell_type": "code",
      "source": [
        "# For multiple races...\n",
        "if sim_opts[\"no_sim_runs\"] > 1:\n",
        "    mcs_analysis(\n",
        "        race_results=race_results,\n",
        "        use_print_result=sim_opts[\"use_print_result\"],\n",
        "        use_plot=sim_opts[\"use_plot\"])"
      ],
      "metadata": {
        "id": "-5jS6ALmQO4U",
        "colab": {
          "base_uri": "https://localhost:8080/"
        },
        "outputId": "9fe39769-3339-41e6-dd24-6112a0e65ae6"
      },
      "execution_count": 24,
      "outputs": [
        {
          "output_type": "stream",
          "name": "stdout",
          "text": [
            "RESULT: Mean positions after 100 simulation runs...\n",
            "RESULT: BOT: 1.0\n",
            "RESULT: HAM: 2.0\n",
            "RESULT: VER: 3.2\n",
            "RESULT: LEC: 4.1\n",
            "RESULT: RIC: 5.3\n",
            "RESULT: VET: 5.6\n",
            "RESULT: ALB: 7.3\n",
            "RESULT: SAI: 8.0\n",
            "RESULT: MAG: 9.4\n",
            "RESULT: GRO: 10.5\n",
            "RESULT: GAS: 11.2\n",
            "RESULT: PER: 12.1\n",
            "RESULT: STR: 12.5\n",
            "RESULT: GIO: 13.1\n",
            "RESULT: RAI: 14.7\n",
            "RESULT: RUS: 16.4\n",
            "RESULT: KUB: 16.5\n",
            "RESULT: NOR: 18.0\n",
            "RESULT: KVY: 19.0\n",
            "RESULT: HUL: 20.0\n"
          ]
        }
      ]
    },
    {
      "cell_type": "code",
      "source": [],
      "metadata": {
        "id": "4Brz2rX2SEJD"
      },
      "execution_count": null,
      "outputs": []
    }
  ]
}